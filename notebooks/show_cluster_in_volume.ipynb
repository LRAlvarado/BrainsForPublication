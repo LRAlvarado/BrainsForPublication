{
 "cells": [
  {
   "cell_type": "markdown",
   "metadata": {},
   "source": [
    "# Visualize Clusters on Volume"
   ]
  },
  {
   "cell_type": "code",
   "execution_count": 1,
   "metadata": {
    "collapsed": false
   },
   "outputs": [],
   "source": [
    "%matplotlib inline"
   ]
  },
  {
   "cell_type": "markdown",
   "metadata": {},
   "source": [
    "## 1. Upload all statistical maps into the data folder"
   ]
  },
  {
   "cell_type": "markdown",
   "metadata": {},
   "source": [
    "The `data` folder can be found in the same folder as this notebook. Just drag and drop your NIfTI file into the data folder and press the **upload** button."
   ]
  },
  {
   "cell_type": "markdown",
   "metadata": {},
   "source": [
    "## 2. Specify relevant visualization parameters"
   ]
  },
  {
   "cell_type": "code",
   "execution_count": 2,
   "metadata": {
    "collapsed": true
   },
   "outputs": [],
   "source": [
    "# Voxel cluster extend\n",
    "cluster_extend = 20\n",
    "\n",
    "# Threshold for statistical map\n",
    "threshold = 2.3\n",
    "\n",
    "# Template to use for background\n",
    "template = '../scripts/templates/MNI152_T1_1mm_brain.nii.gz'\n",
    "\n",
    "# Creat CSV file with cluster information\n",
    "create_CSV = True\n",
    "\n",
    "# Show cross on cut position\n",
    "show_cross = True\n",
    "\n",
    "# Show image annotation (hemisphere laterality and coordination)\n",
    "annotate_figure = True\n",
    "\n",
    "# Show colorbar\n",
    "show_colorbar = True\n",
    "\n",
    "# Colorbar orientation\n",
    "colorbar_orientation = 'horizontal'\n",
    "\n",
    "# Show cluster information in title\n",
    "show_title = False\n",
    "\n",
    "# Image resolution\n",
    "dpi = 300\n",
    "\n",
    "# Image type\n",
    "imageType = 'png'\n",
    "\n",
    "# Add prefix to image name\n",
    "prefix = 'cluster'"
   ]
  },
  {
   "cell_type": "markdown",
   "metadata": {},
   "source": [
    "## 3. Run the visualization script"
   ]
  },
  {
   "cell_type": "code",
   "execution_count": 13,
   "metadata": {
    "collapsed": false
   },
   "outputs": [
    {
     "name": "stdout",
     "output_type": "stream",
     "text": [
      "usage: show_cluster_in_volume.py [-h] [-ce, --cluster_extent cluster_extent]\n",
      "                                 [-t, --cluster_thr threshold] [--csv]\n",
      "                                 [--cluster_title] [-c cmap] [-cb]\n",
      "                                 [--black_bg] [--dpi dpi] [--format format]\n",
      "                                 stats_file\n",
      "\n",
      "Show the locations of clusters in a statistical map in MNI space.\n",
      "\n",
      "positional arguments:\n",
      "  stats_file            3D nifti file in MNI space containing the statistical values\n",
      "                         you want to visualise.\n",
      "                        Note that this file can be pre-thresholded or not.\n",
      "                        If your file is already thresholded then you will need to\n",
      "                         pass an argument to the -t option otherwise it will default to 2.3.\n",
      "                         A suggested value is 0.01.\n",
      "\n",
      "optional arguments:\n",
      "  -h, --help            show this help message and exit\n",
      "  -ce, --cluster_extent cluster_extent\n",
      "                        Minimum cluster extent for a region to be included in the visualisation\n",
      "                         (integer)\n",
      "                         Default: 20\n",
      "  -t, --cluster_thr threshold\n",
      "                        Minimum statistical value for a region to be included in the visualisation\n",
      "                         (float)\n",
      "                         Default: 2.3\n",
      "  --csv                 Create a csv file with cluster information.\n",
      "                         Default: False\n",
      "  --cluster_title       Show cluster information in the title of the plot.\n",
      "                         Default: False\n",
      "  -c cmap, --cmap cmap  Any matplotlib colormap listed at\n",
      "                          http://matplotlib.org/examples/color/colormaps_reference.html\n",
      "                         Default: RdBu_r\n",
      "  -cb, --cbar           Display a colorbar on the right of the plots\n",
      "                         Default: False\n",
      "  --black_bg            Set the background to black.\n",
      "                         Default: White\n",
      "  --dpi dpi             DPI of output png file\n",
      "                         Default: 300\n",
      "  --format format       Format of the output image file.\n",
      "                         Eg: png, pdf, tif, jpeg, svg. \n",
      "                         Default: png\n",
      "\n",
      "Author: Kirstie Whitaker <kw401@cam.ac.uk>\n"
     ]
    }
   ],
   "source": [
    "%run ../scripts/show_cluster_in_volume.py --help"
   ]
  },
  {
   "cell_type": "code",
   "execution_count": null,
   "metadata": {
    "collapsed": false
   },
   "outputs": [],
   "source": [
    "%run ../scripts/show_volume.py \\\n",
    "    $cluster_extend \\\n",
    "    $threshold \\\n",
    "    $template \\\n",
    "    $create_CSV \\\n",
    "    $show_cross \\\n",
    "    $annotate_figure \\\n",
    "    $show_colorbar \\\n",
    "    $colorbar_orientation \\\n",
    "    $show_title \\\n",
    "    $dpi \\\n",
    "    $imageType \\\n",
    "    $prefix "
   ]
  },
  {
   "cell_type": "markdown",
   "metadata": {},
   "source": [
    "## 4. Look at your data"
   ]
  },
  {
   "cell_type": "code",
   "execution_count": null,
   "metadata": {
    "collapsed": false,
    "scrolled": false
   },
   "outputs": [],
   "source": [
    "from IPython.display import Image, display\n",
    "outputs = sorted(gg('figures/*/*.png'))\n",
    "for o in outputs:\n",
    "    a = Image(filename=o)\n",
    "    display(a)"
   ]
  }
 ],
 "metadata": {
  "anaconda-cloud": {},
  "kernelspec": {
   "display_name": "Python [conda env:kwturing]",
   "language": "python",
   "name": "conda-env-kwturing-py"
  },
  "language_info": {
   "codemirror_mode": {
    "name": "ipython",
    "version": 3
   },
   "file_extension": ".py",
   "mimetype": "text/x-python",
   "name": "python",
   "nbconvert_exporter": "python",
   "pygments_lexer": "ipython3",
   "version": "3.5.2"
  }
 },
 "nbformat": 4,
 "nbformat_minor": 0
}
